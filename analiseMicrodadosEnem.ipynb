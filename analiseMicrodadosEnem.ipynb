{
 "cells": [
  {
   "cell_type": "markdown",
   "id": "95f1e289",
   "metadata": {},
   "source": [
    "# Análise dos Microdados do ENEM"
   ]
  },
  {
   "cell_type": "code",
   "execution_count": 1,
   "id": "d304d95c",
   "metadata": {},
   "outputs": [],
   "source": [
    "import pandas as pd"
   ]
  },
  {
   "cell_type": "code",
   "execution_count": 2,
   "id": "bd062230",
   "metadata": {
    "scrolled": true
   },
   "outputs": [],
   "source": [
    "base_path = 'C:/Users/Doguinhos/ambiente_virtual/projetos/microdados_enem/DADOS/'\n",
    "microdadosEnem = pd.read_csv(base_path + 'MICRODADOS_ENEM_2018.csv', sep=\";\", encoding='ISO-8859-1')"
   ]
  },
  {
   "cell_type": "code",
   "execution_count": 3,
   "id": "d7ffd105",
   "metadata": {},
   "outputs": [
    {
     "data": {
      "text/html": [
       "<div>\n",
       "<style scoped>\n",
       "    .dataframe tbody tr th:only-of-type {\n",
       "        vertical-align: middle;\n",
       "    }\n",
       "\n",
       "    .dataframe tbody tr th {\n",
       "        vertical-align: top;\n",
       "    }\n",
       "\n",
       "    .dataframe thead th {\n",
       "        text-align: right;\n",
       "    }\n",
       "</style>\n",
       "<table border=\"1\" class=\"dataframe\">\n",
       "  <thead>\n",
       "    <tr style=\"text-align: right;\">\n",
       "      <th></th>\n",
       "      <th>NU_INSCRICAO</th>\n",
       "      <th>NU_ANO</th>\n",
       "      <th>CO_MUNICIPIO_RESIDENCIA</th>\n",
       "      <th>NO_MUNICIPIO_RESIDENCIA</th>\n",
       "      <th>CO_UF_RESIDENCIA</th>\n",
       "      <th>SG_UF_RESIDENCIA</th>\n",
       "      <th>NU_IDADE</th>\n",
       "      <th>TP_SEXO</th>\n",
       "      <th>TP_ESTADO_CIVIL</th>\n",
       "      <th>TP_COR_RACA</th>\n",
       "      <th>...</th>\n",
       "      <th>Q018</th>\n",
       "      <th>Q019</th>\n",
       "      <th>Q020</th>\n",
       "      <th>Q021</th>\n",
       "      <th>Q022</th>\n",
       "      <th>Q023</th>\n",
       "      <th>Q024</th>\n",
       "      <th>Q025</th>\n",
       "      <th>Q026</th>\n",
       "      <th>Q027</th>\n",
       "    </tr>\n",
       "  </thead>\n",
       "  <tbody>\n",
       "    <tr>\n",
       "      <th>0</th>\n",
       "      <td>180008202043</td>\n",
       "      <td>2018</td>\n",
       "      <td>5300108</td>\n",
       "      <td>Brasília</td>\n",
       "      <td>53</td>\n",
       "      <td>DF</td>\n",
       "      <td>44.0</td>\n",
       "      <td>M</td>\n",
       "      <td>1.0</td>\n",
       "      <td>1</td>\n",
       "      <td>...</td>\n",
       "      <td>A</td>\n",
       "      <td>A</td>\n",
       "      <td>A</td>\n",
       "      <td>A</td>\n",
       "      <td>A</td>\n",
       "      <td>A</td>\n",
       "      <td>A</td>\n",
       "      <td>A</td>\n",
       "      <td>B</td>\n",
       "      <td>A</td>\n",
       "    </tr>\n",
       "    <tr>\n",
       "      <th>1</th>\n",
       "      <td>180007197856</td>\n",
       "      <td>2018</td>\n",
       "      <td>2111102</td>\n",
       "      <td>São João dos Patos</td>\n",
       "      <td>21</td>\n",
       "      <td>MA</td>\n",
       "      <td>23.0</td>\n",
       "      <td>F</td>\n",
       "      <td>0.0</td>\n",
       "      <td>3</td>\n",
       "      <td>...</td>\n",
       "      <td>A</td>\n",
       "      <td>B</td>\n",
       "      <td>A</td>\n",
       "      <td>A</td>\n",
       "      <td>B</td>\n",
       "      <td>A</td>\n",
       "      <td>A</td>\n",
       "      <td>A</td>\n",
       "      <td>A</td>\n",
       "      <td>A</td>\n",
       "    </tr>\n",
       "    <tr>\n",
       "      <th>2</th>\n",
       "      <td>180008517434</td>\n",
       "      <td>2018</td>\n",
       "      <td>3530607</td>\n",
       "      <td>Mogi das Cruzes</td>\n",
       "      <td>35</td>\n",
       "      <td>SP</td>\n",
       "      <td>23.0</td>\n",
       "      <td>F</td>\n",
       "      <td>0.0</td>\n",
       "      <td>1</td>\n",
       "      <td>...</td>\n",
       "      <td>A</td>\n",
       "      <td>B</td>\n",
       "      <td>A</td>\n",
       "      <td>A</td>\n",
       "      <td>B</td>\n",
       "      <td>B</td>\n",
       "      <td>B</td>\n",
       "      <td>B</td>\n",
       "      <td>A</td>\n",
       "      <td>A</td>\n",
       "    </tr>\n",
       "    <tr>\n",
       "      <th>3</th>\n",
       "      <td>180007661228</td>\n",
       "      <td>2018</td>\n",
       "      <td>2916401</td>\n",
       "      <td>Itapetinga</td>\n",
       "      <td>29</td>\n",
       "      <td>BA</td>\n",
       "      <td>26.0</td>\n",
       "      <td>F</td>\n",
       "      <td>0.0</td>\n",
       "      <td>3</td>\n",
       "      <td>...</td>\n",
       "      <td>A</td>\n",
       "      <td>B</td>\n",
       "      <td>B</td>\n",
       "      <td>A</td>\n",
       "      <td>C</td>\n",
       "      <td>A</td>\n",
       "      <td>B</td>\n",
       "      <td>B</td>\n",
       "      <td>A</td>\n",
       "      <td>A</td>\n",
       "    </tr>\n",
       "    <tr>\n",
       "      <th>4</th>\n",
       "      <td>180008787987</td>\n",
       "      <td>2018</td>\n",
       "      <td>2918100</td>\n",
       "      <td>Jeremoabo</td>\n",
       "      <td>29</td>\n",
       "      <td>BA</td>\n",
       "      <td>20.0</td>\n",
       "      <td>M</td>\n",
       "      <td>0.0</td>\n",
       "      <td>0</td>\n",
       "      <td>...</td>\n",
       "      <td>A</td>\n",
       "      <td>B</td>\n",
       "      <td>A</td>\n",
       "      <td>A</td>\n",
       "      <td>B</td>\n",
       "      <td>A</td>\n",
       "      <td>B</td>\n",
       "      <td>B</td>\n",
       "      <td>B</td>\n",
       "      <td>A</td>\n",
       "    </tr>\n",
       "  </tbody>\n",
       "</table>\n",
       "<p>5 rows × 137 columns</p>\n",
       "</div>"
      ],
      "text/plain": [
       "   NU_INSCRICAO  NU_ANO  CO_MUNICIPIO_RESIDENCIA NO_MUNICIPIO_RESIDENCIA  \\\n",
       "0  180008202043    2018                  5300108                Brasília   \n",
       "1  180007197856    2018                  2111102      São João dos Patos   \n",
       "2  180008517434    2018                  3530607         Mogi das Cruzes   \n",
       "3  180007661228    2018                  2916401              Itapetinga   \n",
       "4  180008787987    2018                  2918100               Jeremoabo   \n",
       "\n",
       "   CO_UF_RESIDENCIA SG_UF_RESIDENCIA  NU_IDADE TP_SEXO  TP_ESTADO_CIVIL  \\\n",
       "0                53               DF      44.0       M              1.0   \n",
       "1                21               MA      23.0       F              0.0   \n",
       "2                35               SP      23.0       F              0.0   \n",
       "3                29               BA      26.0       F              0.0   \n",
       "4                29               BA      20.0       M              0.0   \n",
       "\n",
       "   TP_COR_RACA  ...  Q018  Q019 Q020  Q021 Q022  Q023  Q024  Q025  Q026  Q027  \n",
       "0            1  ...     A     A    A     A    A     A     A     A     B     A  \n",
       "1            3  ...     A     B    A     A    B     A     A     A     A     A  \n",
       "2            1  ...     A     B    A     A    B     B     B     B     A     A  \n",
       "3            3  ...     A     B    B     A    C     A     B     B     A     A  \n",
       "4            0  ...     A     B    A     A    B     A     B     B     B     A  \n",
       "\n",
       "[5 rows x 137 columns]"
      ]
     },
     "execution_count": 3,
     "metadata": {},
     "output_type": "execute_result"
    }
   ],
   "source": [
    "microdadosEnem.head()"
   ]
  },
  {
   "cell_type": "code",
   "execution_count": 4,
   "id": "596d9cd5",
   "metadata": {},
   "outputs": [
    {
     "data": {
      "text/html": [
       "<div>\n",
       "<style scoped>\n",
       "    .dataframe tbody tr th:only-of-type {\n",
       "        vertical-align: middle;\n",
       "    }\n",
       "\n",
       "    .dataframe tbody tr th {\n",
       "        vertical-align: top;\n",
       "    }\n",
       "\n",
       "    .dataframe thead th {\n",
       "        text-align: right;\n",
       "    }\n",
       "</style>\n",
       "<table border=\"1\" class=\"dataframe\">\n",
       "  <thead>\n",
       "    <tr style=\"text-align: right;\">\n",
       "      <th></th>\n",
       "      <th>NU_INSCRICAO</th>\n",
       "      <th>NU_ANO</th>\n",
       "      <th>CO_MUNICIPIO_RESIDENCIA</th>\n",
       "      <th>NO_MUNICIPIO_RESIDENCIA</th>\n",
       "      <th>CO_UF_RESIDENCIA</th>\n",
       "      <th>SG_UF_RESIDENCIA</th>\n",
       "      <th>NU_IDADE</th>\n",
       "      <th>TP_SEXO</th>\n",
       "      <th>TP_ESTADO_CIVIL</th>\n",
       "      <th>TP_COR_RACA</th>\n",
       "      <th>...</th>\n",
       "      <th>Q018</th>\n",
       "      <th>Q019</th>\n",
       "      <th>Q020</th>\n",
       "      <th>Q021</th>\n",
       "      <th>Q022</th>\n",
       "      <th>Q023</th>\n",
       "      <th>Q024</th>\n",
       "      <th>Q025</th>\n",
       "      <th>Q026</th>\n",
       "      <th>Q027</th>\n",
       "    </tr>\n",
       "  </thead>\n",
       "  <tbody>\n",
       "    <tr>\n",
       "      <th>0</th>\n",
       "      <td>180008202043</td>\n",
       "      <td>2018</td>\n",
       "      <td>5300108</td>\n",
       "      <td>Brasília</td>\n",
       "      <td>53</td>\n",
       "      <td>DF</td>\n",
       "      <td>44.0</td>\n",
       "      <td>M</td>\n",
       "      <td>1.0</td>\n",
       "      <td>1</td>\n",
       "      <td>...</td>\n",
       "      <td>A</td>\n",
       "      <td>A</td>\n",
       "      <td>A</td>\n",
       "      <td>A</td>\n",
       "      <td>A</td>\n",
       "      <td>A</td>\n",
       "      <td>A</td>\n",
       "      <td>A</td>\n",
       "      <td>B</td>\n",
       "      <td>A</td>\n",
       "    </tr>\n",
       "    <tr>\n",
       "      <th>1</th>\n",
       "      <td>180007197856</td>\n",
       "      <td>2018</td>\n",
       "      <td>2111102</td>\n",
       "      <td>São João dos Patos</td>\n",
       "      <td>21</td>\n",
       "      <td>MA</td>\n",
       "      <td>23.0</td>\n",
       "      <td>F</td>\n",
       "      <td>0.0</td>\n",
       "      <td>3</td>\n",
       "      <td>...</td>\n",
       "      <td>A</td>\n",
       "      <td>B</td>\n",
       "      <td>A</td>\n",
       "      <td>A</td>\n",
       "      <td>B</td>\n",
       "      <td>A</td>\n",
       "      <td>A</td>\n",
       "      <td>A</td>\n",
       "      <td>A</td>\n",
       "      <td>A</td>\n",
       "    </tr>\n",
       "    <tr>\n",
       "      <th>2</th>\n",
       "      <td>180008517434</td>\n",
       "      <td>2018</td>\n",
       "      <td>3530607</td>\n",
       "      <td>Mogi das Cruzes</td>\n",
       "      <td>35</td>\n",
       "      <td>SP</td>\n",
       "      <td>23.0</td>\n",
       "      <td>F</td>\n",
       "      <td>0.0</td>\n",
       "      <td>1</td>\n",
       "      <td>...</td>\n",
       "      <td>A</td>\n",
       "      <td>B</td>\n",
       "      <td>A</td>\n",
       "      <td>A</td>\n",
       "      <td>B</td>\n",
       "      <td>B</td>\n",
       "      <td>B</td>\n",
       "      <td>B</td>\n",
       "      <td>A</td>\n",
       "      <td>A</td>\n",
       "    </tr>\n",
       "    <tr>\n",
       "      <th>3</th>\n",
       "      <td>180007661228</td>\n",
       "      <td>2018</td>\n",
       "      <td>2916401</td>\n",
       "      <td>Itapetinga</td>\n",
       "      <td>29</td>\n",
       "      <td>BA</td>\n",
       "      <td>26.0</td>\n",
       "      <td>F</td>\n",
       "      <td>0.0</td>\n",
       "      <td>3</td>\n",
       "      <td>...</td>\n",
       "      <td>A</td>\n",
       "      <td>B</td>\n",
       "      <td>B</td>\n",
       "      <td>A</td>\n",
       "      <td>C</td>\n",
       "      <td>A</td>\n",
       "      <td>B</td>\n",
       "      <td>B</td>\n",
       "      <td>A</td>\n",
       "      <td>A</td>\n",
       "    </tr>\n",
       "    <tr>\n",
       "      <th>4</th>\n",
       "      <td>180008787987</td>\n",
       "      <td>2018</td>\n",
       "      <td>2918100</td>\n",
       "      <td>Jeremoabo</td>\n",
       "      <td>29</td>\n",
       "      <td>BA</td>\n",
       "      <td>20.0</td>\n",
       "      <td>M</td>\n",
       "      <td>0.0</td>\n",
       "      <td>0</td>\n",
       "      <td>...</td>\n",
       "      <td>A</td>\n",
       "      <td>B</td>\n",
       "      <td>A</td>\n",
       "      <td>A</td>\n",
       "      <td>B</td>\n",
       "      <td>A</td>\n",
       "      <td>B</td>\n",
       "      <td>B</td>\n",
       "      <td>B</td>\n",
       "      <td>A</td>\n",
       "    </tr>\n",
       "    <tr>\n",
       "      <th>...</th>\n",
       "      <td>...</td>\n",
       "      <td>...</td>\n",
       "      <td>...</td>\n",
       "      <td>...</td>\n",
       "      <td>...</td>\n",
       "      <td>...</td>\n",
       "      <td>...</td>\n",
       "      <td>...</td>\n",
       "      <td>...</td>\n",
       "      <td>...</td>\n",
       "      <td>...</td>\n",
       "      <td>...</td>\n",
       "      <td>...</td>\n",
       "      <td>...</td>\n",
       "      <td>...</td>\n",
       "      <td>...</td>\n",
       "      <td>...</td>\n",
       "      <td>...</td>\n",
       "      <td>...</td>\n",
       "      <td>...</td>\n",
       "      <td>...</td>\n",
       "    </tr>\n",
       "    <tr>\n",
       "      <th>5513742</th>\n",
       "      <td>180013945649</td>\n",
       "      <td>2018</td>\n",
       "      <td>3304557</td>\n",
       "      <td>Rio de Janeiro</td>\n",
       "      <td>33</td>\n",
       "      <td>RJ</td>\n",
       "      <td>56.0</td>\n",
       "      <td>F</td>\n",
       "      <td>1.0</td>\n",
       "      <td>1</td>\n",
       "      <td>...</td>\n",
       "      <td>B</td>\n",
       "      <td>B</td>\n",
       "      <td>A</td>\n",
       "      <td>A</td>\n",
       "      <td>B</td>\n",
       "      <td>B</td>\n",
       "      <td>A</td>\n",
       "      <td>A</td>\n",
       "      <td>A</td>\n",
       "      <td>C</td>\n",
       "    </tr>\n",
       "    <tr>\n",
       "      <th>5513743</th>\n",
       "      <td>180013964149</td>\n",
       "      <td>2018</td>\n",
       "      <td>1302603</td>\n",
       "      <td>Manaus</td>\n",
       "      <td>13</td>\n",
       "      <td>AM</td>\n",
       "      <td>20.0</td>\n",
       "      <td>F</td>\n",
       "      <td>0.0</td>\n",
       "      <td>3</td>\n",
       "      <td>...</td>\n",
       "      <td>A</td>\n",
       "      <td>A</td>\n",
       "      <td>A</td>\n",
       "      <td>A</td>\n",
       "      <td>B</td>\n",
       "      <td>A</td>\n",
       "      <td>A</td>\n",
       "      <td>B</td>\n",
       "      <td>B</td>\n",
       "      <td>A</td>\n",
       "    </tr>\n",
       "    <tr>\n",
       "      <th>5513744</th>\n",
       "      <td>180013980226</td>\n",
       "      <td>2018</td>\n",
       "      <td>3550308</td>\n",
       "      <td>São Paulo</td>\n",
       "      <td>35</td>\n",
       "      <td>SP</td>\n",
       "      <td>17.0</td>\n",
       "      <td>F</td>\n",
       "      <td>0.0</td>\n",
       "      <td>3</td>\n",
       "      <td>...</td>\n",
       "      <td>A</td>\n",
       "      <td>A</td>\n",
       "      <td>A</td>\n",
       "      <td>B</td>\n",
       "      <td>B</td>\n",
       "      <td>A</td>\n",
       "      <td>B</td>\n",
       "      <td>B</td>\n",
       "      <td>B</td>\n",
       "      <td>A</td>\n",
       "    </tr>\n",
       "    <tr>\n",
       "      <th>5513745</th>\n",
       "      <td>180013934137</td>\n",
       "      <td>2018</td>\n",
       "      <td>3509502</td>\n",
       "      <td>Campinas</td>\n",
       "      <td>35</td>\n",
       "      <td>SP</td>\n",
       "      <td>17.0</td>\n",
       "      <td>F</td>\n",
       "      <td>0.0</td>\n",
       "      <td>1</td>\n",
       "      <td>...</td>\n",
       "      <td>B</td>\n",
       "      <td>C</td>\n",
       "      <td>B</td>\n",
       "      <td>B</td>\n",
       "      <td>E</td>\n",
       "      <td>A</td>\n",
       "      <td>C</td>\n",
       "      <td>B</td>\n",
       "      <td>B</td>\n",
       "      <td>C</td>\n",
       "    </tr>\n",
       "    <tr>\n",
       "      <th>5513746</th>\n",
       "      <td>180013962906</td>\n",
       "      <td>2018</td>\n",
       "      <td>3127701</td>\n",
       "      <td>Governador Valadares</td>\n",
       "      <td>31</td>\n",
       "      <td>MG</td>\n",
       "      <td>21.0</td>\n",
       "      <td>M</td>\n",
       "      <td>0.0</td>\n",
       "      <td>3</td>\n",
       "      <td>...</td>\n",
       "      <td>A</td>\n",
       "      <td>A</td>\n",
       "      <td>A</td>\n",
       "      <td>A</td>\n",
       "      <td>B</td>\n",
       "      <td>A</td>\n",
       "      <td>A</td>\n",
       "      <td>B</td>\n",
       "      <td>A</td>\n",
       "      <td>A</td>\n",
       "    </tr>\n",
       "  </tbody>\n",
       "</table>\n",
       "<p>5513747 rows × 137 columns</p>\n",
       "</div>"
      ],
      "text/plain": [
       "         NU_INSCRICAO  NU_ANO  CO_MUNICIPIO_RESIDENCIA  \\\n",
       "0        180008202043    2018                  5300108   \n",
       "1        180007197856    2018                  2111102   \n",
       "2        180008517434    2018                  3530607   \n",
       "3        180007661228    2018                  2916401   \n",
       "4        180008787987    2018                  2918100   \n",
       "...               ...     ...                      ...   \n",
       "5513742  180013945649    2018                  3304557   \n",
       "5513743  180013964149    2018                  1302603   \n",
       "5513744  180013980226    2018                  3550308   \n",
       "5513745  180013934137    2018                  3509502   \n",
       "5513746  180013962906    2018                  3127701   \n",
       "\n",
       "        NO_MUNICIPIO_RESIDENCIA  CO_UF_RESIDENCIA SG_UF_RESIDENCIA  NU_IDADE  \\\n",
       "0                      Brasília                53               DF      44.0   \n",
       "1            São João dos Patos                21               MA      23.0   \n",
       "2               Mogi das Cruzes                35               SP      23.0   \n",
       "3                    Itapetinga                29               BA      26.0   \n",
       "4                     Jeremoabo                29               BA      20.0   \n",
       "...                         ...               ...              ...       ...   \n",
       "5513742          Rio de Janeiro                33               RJ      56.0   \n",
       "5513743                  Manaus                13               AM      20.0   \n",
       "5513744               São Paulo                35               SP      17.0   \n",
       "5513745                Campinas                35               SP      17.0   \n",
       "5513746    Governador Valadares                31               MG      21.0   \n",
       "\n",
       "        TP_SEXO  TP_ESTADO_CIVIL  TP_COR_RACA  ...  Q018  Q019 Q020  Q021  \\\n",
       "0             M              1.0            1  ...     A     A    A     A   \n",
       "1             F              0.0            3  ...     A     B    A     A   \n",
       "2             F              0.0            1  ...     A     B    A     A   \n",
       "3             F              0.0            3  ...     A     B    B     A   \n",
       "4             M              0.0            0  ...     A     B    A     A   \n",
       "...         ...              ...          ...  ...   ...   ...  ...   ...   \n",
       "5513742       F              1.0            1  ...     B     B    A     A   \n",
       "5513743       F              0.0            3  ...     A     A    A     A   \n",
       "5513744       F              0.0            3  ...     A     A    A     B   \n",
       "5513745       F              0.0            1  ...     B     C    B     B   \n",
       "5513746       M              0.0            3  ...     A     A    A     A   \n",
       "\n",
       "        Q022  Q023  Q024  Q025  Q026  Q027  \n",
       "0          A     A     A     A     B     A  \n",
       "1          B     A     A     A     A     A  \n",
       "2          B     B     B     B     A     A  \n",
       "3          C     A     B     B     A     A  \n",
       "4          B     A     B     B     B     A  \n",
       "...      ...   ...   ...   ...   ...   ...  \n",
       "5513742    B     B     A     A     A     C  \n",
       "5513743    B     A     A     B     B     A  \n",
       "5513744    B     A     B     B     B     A  \n",
       "5513745    E     A     C     B     B     C  \n",
       "5513746    B     A     A     B     A     A  \n",
       "\n",
       "[5513747 rows x 137 columns]"
      ]
     },
     "execution_count": 4,
     "metadata": {},
     "output_type": "execute_result"
    }
   ],
   "source": [
    "microdadosEnem"
   ]
  },
  {
   "cell_type": "code",
   "execution_count": 5,
   "id": "b4f46053",
   "metadata": {},
   "outputs": [
    {
     "data": {
      "text/plain": [
       "array(['NU_INSCRICAO', 'NU_ANO', 'CO_MUNICIPIO_RESIDENCIA',\n",
       "       'NO_MUNICIPIO_RESIDENCIA', 'CO_UF_RESIDENCIA', 'SG_UF_RESIDENCIA',\n",
       "       'NU_IDADE', 'TP_SEXO', 'TP_ESTADO_CIVIL', 'TP_COR_RACA',\n",
       "       'TP_NACIONALIDADE', 'CO_MUNICIPIO_NASCIMENTO',\n",
       "       'NO_MUNICIPIO_NASCIMENTO', 'CO_UF_NASCIMENTO', 'SG_UF_NASCIMENTO',\n",
       "       'TP_ST_CONCLUSAO', 'TP_ANO_CONCLUIU', 'TP_ESCOLA', 'TP_ENSINO',\n",
       "       'IN_TREINEIRO', 'CO_ESCOLA', 'CO_MUNICIPIO_ESC',\n",
       "       'NO_MUNICIPIO_ESC', 'CO_UF_ESC', 'SG_UF_ESC',\n",
       "       'TP_DEPENDENCIA_ADM_ESC', 'TP_LOCALIZACAO_ESC', 'TP_SIT_FUNC_ESC',\n",
       "       'IN_BAIXA_VISAO', 'IN_CEGUEIRA', 'IN_SURDEZ',\n",
       "       'IN_DEFICIENCIA_AUDITIVA', 'IN_SURDO_CEGUEIRA',\n",
       "       'IN_DEFICIENCIA_FISICA', 'IN_DEFICIENCIA_MENTAL',\n",
       "       'IN_DEFICIT_ATENCAO', 'IN_DISLEXIA', 'IN_DISCALCULIA',\n",
       "       'IN_AUTISMO', 'IN_VISAO_MONOCULAR', 'IN_OUTRA_DEF', 'IN_GESTANTE',\n",
       "       'IN_LACTANTE', 'IN_IDOSO', 'IN_ESTUDA_CLASSE_HOSPITALAR',\n",
       "       'IN_SEM_RECURSO', 'IN_BRAILLE', 'IN_AMPLIADA_24', 'IN_AMPLIADA_18',\n",
       "       'IN_LEDOR', 'IN_ACESSO', 'IN_TRANSCRICAO', 'IN_LIBRAS',\n",
       "       'IN_LEITURA_LABIAL', 'IN_MESA_CADEIRA_RODAS',\n",
       "       'IN_MESA_CADEIRA_SEPARADA', 'IN_APOIO_PERNA', 'IN_GUIA_INTERPRETE',\n",
       "       'IN_COMPUTADOR', 'IN_CADEIRA_ESPECIAL', 'IN_CADEIRA_CANHOTO',\n",
       "       'IN_CADEIRA_ACOLCHOADA', 'IN_PROVA_DEITADO', 'IN_MOBILIARIO_OBESO',\n",
       "       'IN_LAMINA_OVERLAY', 'IN_PROTETOR_AURICULAR', 'IN_MEDIDOR_GLICOSE',\n",
       "       'IN_MAQUINA_BRAILE', 'IN_SOROBAN', 'IN_MARCA_PASSO', 'IN_SONDA',\n",
       "       'IN_MEDICAMENTOS', 'IN_SALA_INDIVIDUAL', 'IN_SALA_ESPECIAL',\n",
       "       'IN_SALA_ACOMPANHANTE', 'IN_MOBILIARIO_ESPECIFICO',\n",
       "       'IN_MATERIAL_ESPECIFICO', 'IN_NOME_SOCIAL', 'CO_MUNICIPIO_PROVA',\n",
       "       'NO_MUNICIPIO_PROVA', 'CO_UF_PROVA', 'SG_UF_PROVA',\n",
       "       'TP_PRESENCA_CN', 'TP_PRESENCA_CH', 'TP_PRESENCA_LC',\n",
       "       'TP_PRESENCA_MT', 'CO_PROVA_CN', 'CO_PROVA_CH', 'CO_PROVA_LC',\n",
       "       'CO_PROVA_MT', 'NU_NOTA_CN', 'NU_NOTA_CH', 'NU_NOTA_LC',\n",
       "       'NU_NOTA_MT', 'TX_RESPOSTAS_CN', 'TX_RESPOSTAS_CH',\n",
       "       'TX_RESPOSTAS_LC', 'TX_RESPOSTAS_MT', 'TP_LINGUA',\n",
       "       'TX_GABARITO_CN', 'TX_GABARITO_CH', 'TX_GABARITO_LC',\n",
       "       'TX_GABARITO_MT', 'TP_STATUS_REDACAO', 'NU_NOTA_COMP1',\n",
       "       'NU_NOTA_COMP2', 'NU_NOTA_COMP3', 'NU_NOTA_COMP4', 'NU_NOTA_COMP5',\n",
       "       'NU_NOTA_REDACAO', 'Q001', 'Q002', 'Q003', 'Q004', 'Q005', 'Q006',\n",
       "       'Q007', 'Q008', 'Q009', 'Q010', 'Q011', 'Q012', 'Q013', 'Q014',\n",
       "       'Q015', 'Q016', 'Q017', 'Q018', 'Q019', 'Q020', 'Q021', 'Q022',\n",
       "       'Q023', 'Q024', 'Q025', 'Q026', 'Q027'], dtype=object)"
      ]
     },
     "execution_count": 5,
     "metadata": {},
     "output_type": "execute_result"
    }
   ],
   "source": [
    "microdadosEnem.columns.values"
   ]
  },
  {
   "cell_type": "code",
   "execution_count": 9,
   "id": "4b6aa506",
   "metadata": {},
   "outputs": [],
   "source": [
    "colunasSelecionadasEnem = ['NO_MUNICIPIO_RESIDENCIA','SG_UF_RESIDENCIA',\n",
    "       'NU_IDADE', 'TP_SEXO', 'TP_ESTADO_CIVIL', 'TP_COR_RACA',\n",
    "       'TP_NACIONALIDADE','NO_MUNICIPIO_NASCIMENTO','SG_UF_NASCIMENTO',\n",
    "       'IN_BAIXA_VISAO', 'IN_CEGUEIRA', 'IN_SURDEZ',\n",
    "       'IN_DEFICIENCIA_AUDITIVA', 'IN_SURDO_CEGUEIRA',\n",
    "       'IN_DEFICIENCIA_FISICA', 'IN_DEFICIENCIA_MENTAL',\n",
    "       'IN_DEFICIT_ATENCAO', 'IN_DISLEXIA', 'IN_DISCALCULIA',\n",
    "       'IN_AUTISMO', 'IN_VISAO_MONOCULAR', 'IN_OUTRA_DEF', 'IN_GESTANTE',\n",
    "       'IN_LACTANTE', 'IN_IDOSO', 'IN_ESTUDA_CLASSE_HOSPITALAR',\n",
    "       'IN_SEM_RECURSO', 'IN_BRAILLE', 'IN_AMPLIADA_24', 'IN_AMPLIADA_18',\n",
    "       'IN_LEDOR', 'IN_ACESSO', 'IN_TRANSCRICAO', 'IN_LIBRAS',\n",
    "       'IN_LEITURA_LABIAL', 'IN_MESA_CADEIRA_RODAS',\n",
    "       'IN_MESA_CADEIRA_SEPARADA', 'IN_APOIO_PERNA', 'IN_GUIA_INTERPRETE',\n",
    "       'IN_COMPUTADOR', 'IN_CADEIRA_ESPECIAL', 'IN_CADEIRA_CANHOTO',\n",
    "       'IN_CADEIRA_ACOLCHOADA', 'IN_PROVA_DEITADO', 'IN_MOBILIARIO_OBESO',\n",
    "       'IN_LAMINA_OVERLAY', 'IN_PROTETOR_AURICULAR', 'IN_MEDIDOR_GLICOSE',\n",
    "       'IN_MAQUINA_BRAILE', 'IN_SOROBAN', 'IN_MARCA_PASSO', 'IN_SONDA',\n",
    "       'IN_MEDICAMENTOS', 'IN_SALA_INDIVIDUAL', 'IN_SALA_ESPECIAL',\n",
    "       'IN_SALA_ACOMPANHANTE', 'IN_MOBILIARIO_ESPECIFICO',\n",
    "       'IN_MATERIAL_ESPECIFICO', 'IN_NOME_SOCIAL']"
   ]
  },
  {
   "cell_type": "code",
   "execution_count": 10,
   "id": "732100ed",
   "metadata": {},
   "outputs": [],
   "source": [
    "microdadosEnemSelecionados = microdadosEnem.filter(items=colunasSelecionadasEnem)"
   ]
  },
  {
   "cell_type": "code",
   "execution_count": 11,
   "id": "e8728cb4",
   "metadata": {},
   "outputs": [
    {
     "data": {
      "text/html": [
       "<div>\n",
       "<style scoped>\n",
       "    .dataframe tbody tr th:only-of-type {\n",
       "        vertical-align: middle;\n",
       "    }\n",
       "\n",
       "    .dataframe tbody tr th {\n",
       "        vertical-align: top;\n",
       "    }\n",
       "\n",
       "    .dataframe thead th {\n",
       "        text-align: right;\n",
       "    }\n",
       "</style>\n",
       "<table border=\"1\" class=\"dataframe\">\n",
       "  <thead>\n",
       "    <tr style=\"text-align: right;\">\n",
       "      <th></th>\n",
       "      <th>NO_MUNICIPIO_RESIDENCIA</th>\n",
       "      <th>SG_UF_RESIDENCIA</th>\n",
       "      <th>NU_IDADE</th>\n",
       "      <th>TP_SEXO</th>\n",
       "      <th>TP_ESTADO_CIVIL</th>\n",
       "      <th>TP_COR_RACA</th>\n",
       "      <th>TP_NACIONALIDADE</th>\n",
       "      <th>NO_MUNICIPIO_NASCIMENTO</th>\n",
       "      <th>SG_UF_NASCIMENTO</th>\n",
       "      <th>IN_BAIXA_VISAO</th>\n",
       "      <th>...</th>\n",
       "      <th>IN_SOROBAN</th>\n",
       "      <th>IN_MARCA_PASSO</th>\n",
       "      <th>IN_SONDA</th>\n",
       "      <th>IN_MEDICAMENTOS</th>\n",
       "      <th>IN_SALA_INDIVIDUAL</th>\n",
       "      <th>IN_SALA_ESPECIAL</th>\n",
       "      <th>IN_SALA_ACOMPANHANTE</th>\n",
       "      <th>IN_MOBILIARIO_ESPECIFICO</th>\n",
       "      <th>IN_MATERIAL_ESPECIFICO</th>\n",
       "      <th>IN_NOME_SOCIAL</th>\n",
       "    </tr>\n",
       "  </thead>\n",
       "  <tbody>\n",
       "    <tr>\n",
       "      <th>0</th>\n",
       "      <td>Brasília</td>\n",
       "      <td>DF</td>\n",
       "      <td>44.0</td>\n",
       "      <td>M</td>\n",
       "      <td>1.0</td>\n",
       "      <td>1</td>\n",
       "      <td>0</td>\n",
       "      <td>NaN</td>\n",
       "      <td>NaN</td>\n",
       "      <td>0</td>\n",
       "      <td>...</td>\n",
       "      <td>0</td>\n",
       "      <td>0</td>\n",
       "      <td>0</td>\n",
       "      <td>0</td>\n",
       "      <td>0</td>\n",
       "      <td>0</td>\n",
       "      <td>0</td>\n",
       "      <td>0</td>\n",
       "      <td>0</td>\n",
       "      <td>0</td>\n",
       "    </tr>\n",
       "    <tr>\n",
       "      <th>1</th>\n",
       "      <td>São João dos Patos</td>\n",
       "      <td>MA</td>\n",
       "      <td>23.0</td>\n",
       "      <td>F</td>\n",
       "      <td>0.0</td>\n",
       "      <td>3</td>\n",
       "      <td>1</td>\n",
       "      <td>São João dos Patos</td>\n",
       "      <td>MA</td>\n",
       "      <td>0</td>\n",
       "      <td>...</td>\n",
       "      <td>0</td>\n",
       "      <td>0</td>\n",
       "      <td>0</td>\n",
       "      <td>0</td>\n",
       "      <td>0</td>\n",
       "      <td>0</td>\n",
       "      <td>0</td>\n",
       "      <td>0</td>\n",
       "      <td>0</td>\n",
       "      <td>0</td>\n",
       "    </tr>\n",
       "    <tr>\n",
       "      <th>2</th>\n",
       "      <td>Mogi das Cruzes</td>\n",
       "      <td>SP</td>\n",
       "      <td>23.0</td>\n",
       "      <td>F</td>\n",
       "      <td>0.0</td>\n",
       "      <td>1</td>\n",
       "      <td>1</td>\n",
       "      <td>Lages</td>\n",
       "      <td>SC</td>\n",
       "      <td>0</td>\n",
       "      <td>...</td>\n",
       "      <td>0</td>\n",
       "      <td>0</td>\n",
       "      <td>0</td>\n",
       "      <td>0</td>\n",
       "      <td>0</td>\n",
       "      <td>0</td>\n",
       "      <td>0</td>\n",
       "      <td>0</td>\n",
       "      <td>0</td>\n",
       "      <td>0</td>\n",
       "    </tr>\n",
       "    <tr>\n",
       "      <th>3</th>\n",
       "      <td>Itapetinga</td>\n",
       "      <td>BA</td>\n",
       "      <td>26.0</td>\n",
       "      <td>F</td>\n",
       "      <td>0.0</td>\n",
       "      <td>3</td>\n",
       "      <td>2</td>\n",
       "      <td>NaN</td>\n",
       "      <td>NaN</td>\n",
       "      <td>0</td>\n",
       "      <td>...</td>\n",
       "      <td>0</td>\n",
       "      <td>0</td>\n",
       "      <td>0</td>\n",
       "      <td>0</td>\n",
       "      <td>0</td>\n",
       "      <td>0</td>\n",
       "      <td>0</td>\n",
       "      <td>0</td>\n",
       "      <td>0</td>\n",
       "      <td>0</td>\n",
       "    </tr>\n",
       "    <tr>\n",
       "      <th>4</th>\n",
       "      <td>Jeremoabo</td>\n",
       "      <td>BA</td>\n",
       "      <td>20.0</td>\n",
       "      <td>M</td>\n",
       "      <td>0.0</td>\n",
       "      <td>0</td>\n",
       "      <td>1</td>\n",
       "      <td>Aracaju</td>\n",
       "      <td>SE</td>\n",
       "      <td>0</td>\n",
       "      <td>...</td>\n",
       "      <td>0</td>\n",
       "      <td>0</td>\n",
       "      <td>0</td>\n",
       "      <td>0</td>\n",
       "      <td>0</td>\n",
       "      <td>0</td>\n",
       "      <td>0</td>\n",
       "      <td>0</td>\n",
       "      <td>0</td>\n",
       "      <td>0</td>\n",
       "    </tr>\n",
       "  </tbody>\n",
       "</table>\n",
       "<p>5 rows × 59 columns</p>\n",
       "</div>"
      ],
      "text/plain": [
       "  NO_MUNICIPIO_RESIDENCIA SG_UF_RESIDENCIA  NU_IDADE TP_SEXO  TP_ESTADO_CIVIL  \\\n",
       "0                Brasília               DF      44.0       M              1.0   \n",
       "1      São João dos Patos               MA      23.0       F              0.0   \n",
       "2         Mogi das Cruzes               SP      23.0       F              0.0   \n",
       "3              Itapetinga               BA      26.0       F              0.0   \n",
       "4               Jeremoabo               BA      20.0       M              0.0   \n",
       "\n",
       "   TP_COR_RACA  TP_NACIONALIDADE NO_MUNICIPIO_NASCIMENTO SG_UF_NASCIMENTO  \\\n",
       "0            1                 0                     NaN              NaN   \n",
       "1            3                 1      São João dos Patos               MA   \n",
       "2            1                 1                   Lages               SC   \n",
       "3            3                 2                     NaN              NaN   \n",
       "4            0                 1                 Aracaju               SE   \n",
       "\n",
       "   IN_BAIXA_VISAO  ...  IN_SOROBAN  IN_MARCA_PASSO  IN_SONDA  IN_MEDICAMENTOS  \\\n",
       "0               0  ...           0               0         0                0   \n",
       "1               0  ...           0               0         0                0   \n",
       "2               0  ...           0               0         0                0   \n",
       "3               0  ...           0               0         0                0   \n",
       "4               0  ...           0               0         0                0   \n",
       "\n",
       "   IN_SALA_INDIVIDUAL  IN_SALA_ESPECIAL  IN_SALA_ACOMPANHANTE  \\\n",
       "0                   0                 0                     0   \n",
       "1                   0                 0                     0   \n",
       "2                   0                 0                     0   \n",
       "3                   0                 0                     0   \n",
       "4                   0                 0                     0   \n",
       "\n",
       "   IN_MOBILIARIO_ESPECIFICO  IN_MATERIAL_ESPECIFICO  IN_NOME_SOCIAL  \n",
       "0                         0                       0               0  \n",
       "1                         0                       0               0  \n",
       "2                         0                       0               0  \n",
       "3                         0                       0               0  \n",
       "4                         0                       0               0  \n",
       "\n",
       "[5 rows x 59 columns]"
      ]
     },
     "execution_count": 11,
     "metadata": {},
     "output_type": "execute_result"
    }
   ],
   "source": [
    "microdadosEnemSelecionados.head()"
   ]
  },
  {
   "cell_type": "code",
   "execution_count": 13,
   "id": "5287db08",
   "metadata": {},
   "outputs": [],
   "source": [
    "microdados100 = microdadosEnem[0:100]"
   ]
  },
  {
   "cell_type": "code",
   "execution_count": 14,
   "id": "fc9ba60a",
   "metadata": {},
   "outputs": [],
   "source": [
    "coluna_no_municipio_residencia = microdadosEnemSelecionados['NO_MUNICIPIO_RESIDENCIA']"
   ]
  },
  {
   "cell_type": "code",
   "execution_count": 15,
   "id": "53a27a7e",
   "metadata": {},
   "outputs": [
    {
     "data": {
      "text/plain": [
       "0                      Brasília\n",
       "1            São João dos Patos\n",
       "2               Mogi das Cruzes\n",
       "3                    Itapetinga\n",
       "4                     Jeremoabo\n",
       "                   ...         \n",
       "5513742          Rio de Janeiro\n",
       "5513743                  Manaus\n",
       "5513744               São Paulo\n",
       "5513745                Campinas\n",
       "5513746    Governador Valadares\n",
       "Name: NO_MUNICIPIO_RESIDENCIA, Length: 5513747, dtype: object"
      ]
     },
     "execution_count": 15,
     "metadata": {},
     "output_type": "execute_result"
    }
   ],
   "source": [
    "coluna_no_municipio_residencia"
   ]
  },
  {
   "cell_type": "code",
   "execution_count": 17,
   "id": "32be588e",
   "metadata": {},
   "outputs": [
    {
     "data": {
      "text/plain": [
       "Abadia de Goiás         284\n",
       "Abadia dos Dourados     176\n",
       "Abadiânia               344\n",
       "Abaetetuba             7188\n",
       "Abaeté                  515\n",
       "                       ... \n",
       "Áurea                    59\n",
       "Ângulo                   48\n",
       "Érico Cardoso           138\n",
       "Óbidos                 1146\n",
       "Óleo                     48\n",
       "Name: NO_MUNICIPIO_RESIDENCIA, Length: 5299, dtype: int64"
      ]
     },
     "execution_count": 17,
     "metadata": {},
     "output_type": "execute_result"
    }
   ],
   "source": [
    "coluna_no_municipio_residencia.value_counts().sort_index()"
   ]
  },
  {
   "cell_type": "code",
   "execution_count": 19,
   "id": "878457d0",
   "metadata": {},
   "outputs": [],
   "source": [
    "coluna_nu_idade = microdadosEnemSelecionados['NU_IDADE']"
   ]
  },
  {
   "cell_type": "code",
   "execution_count": 20,
   "id": "fc089931",
   "metadata": {},
   "outputs": [
    {
     "data": {
      "text/plain": [
       "10.0       6\n",
       "11.0      11\n",
       "12.0      40\n",
       "13.0     272\n",
       "14.0    5625\n",
       "        ... \n",
       "87.0       2\n",
       "88.0       1\n",
       "89.0       1\n",
       "90.0       1\n",
       "98.0       1\n",
       "Name: NU_IDADE, Length: 82, dtype: int64"
      ]
     },
     "execution_count": 20,
     "metadata": {},
     "output_type": "execute_result"
    }
   ],
   "source": [
    "coluna_nu_idade.value_counts().sort_index()"
   ]
  },
  {
   "cell_type": "code",
   "execution_count": 21,
   "id": "c8204050",
   "metadata": {},
   "outputs": [],
   "source": [
    "import matplotlib"
   ]
  },
  {
   "cell_type": "code",
   "execution_count": 23,
   "id": "f815d7f0",
   "metadata": {},
   "outputs": [
    {
     "data": {
      "text/plain": [
       "<AxesSubplot:>"
      ]
     },
     "execution_count": 23,
     "metadata": {},
     "output_type": "execute_result"
    },
    {
     "data": {
      "image/png": "[encoded data removed]",
      "text/plain": [
       "<Figure size 432x288 with 1 Axes>"
      ]
     },
     "metadata": {
      "needs_background": "light"
     },
     "output_type": "display_data"
    }
   ],
   "source": [
    "coluna_nu_idade.hist(bins=30)"
   ]
  },
  {
   "cell_type": "code",
   "execution_count": 24,
   "id": "74fb26bd",
   "metadata": {},
   "outputs": [],
   "source": [
    "coluna_sg_uf_residencia = microdadosEnemSelecionados['SG_UF_RESIDENCIA']"
   ]
  },
  {
   "cell_type": "code",
   "execution_count": 27,
   "id": "8402dd0f",
   "metadata": {},
   "outputs": [
    {
     "data": {
      "text/plain": [
       "SP    934174\n",
       "MG    587471\n",
       "BA    401328\n",
       "RJ    382078\n",
       "CE    329406\n",
       "PE    304302\n",
       "PA    283861\n",
       "RS    243555\n",
       "PR    236533\n",
       "MA    218462\n",
       "GO    191029\n",
       "PB    152049\n",
       "RN    124039\n",
       "SC    123933\n",
       "AM    123755\n",
       "PI    118350\n",
       "ES    112173\n",
       "DF    104531\n",
       "MT     96762\n",
       "AL     89670\n",
       "SE     74633\n",
       "MS     72319\n",
       "RO     62266\n",
       "TO     55145\n",
       "AP     40109\n",
       "AC     37785\n",
       "RR     14029\n",
       "Name: SG_UF_RESIDENCIA, dtype: int64"
      ]
     },
     "execution_count": 27,
     "metadata": {},
     "output_type": "execute_result"
    }
   ],
   "source": [
    "coluna_sg_uf_residencia.value_counts()"
   ]
  },
  {
   "cell_type": "code",
   "execution_count": 28,
   "id": "11969acd",
   "metadata": {},
   "outputs": [
    {
     "data": {
      "text/plain": [
       "<AxesSubplot:>"
      ]
     },
     "execution_count": 28,
     "metadata": {},
     "output_type": "execute_result"
    },
    {
     "data": {
      "image/png": "[encoded data removed]",
      "text/plain": [
       "<Figure size 432x288 with 1 Axes>"
      ]
     },
     "metadata": {
      "needs_background": "light"
     },
     "output_type": "display_data"
    }
   ],
   "source": [
    "coluna_sg_uf_residencia.hist(bins=27)"
   ]
  },
  {
   "cell_type": "code",
   "execution_count": 34,
   "id": "8c78f94a",
   "metadata": {},
   "outputs": [],
   "source": [
    "coluna_in_gestante = microdadosEnemSelecionados['IN_GESTANTE']"
   ]
  },
  {
   "cell_type": "code",
   "execution_count": 45,
   "id": "c58916de",
   "metadata": {},
   "outputs": [],
   "source": [
    "distInGestante = coluna_in_gestante.value_counts()"
   ]
  },
  {
   "cell_type": "code",
   "execution_count": 46,
   "id": "3ff23046",
   "metadata": {},
   "outputs": [
    {
     "data": {
      "text/plain": [
       "0    5511967\n",
       "1       1780\n",
       "Name: IN_GESTANTE, dtype: int64"
      ]
     },
     "execution_count": 46,
     "metadata": {},
     "output_type": "execute_result"
    }
   ],
   "source": [
    "distInGestante"
   ]
  },
  {
   "cell_type": "code",
   "execution_count": 48,
   "id": "55f00691",
   "metadata": {},
   "outputs": [],
   "source": [
    "percentInGestante = [100*x/distInGestante.sum() for x in distInGestante]"
   ]
  },
  {
   "cell_type": "code",
   "execution_count": 49,
   "id": "2e4d296b",
   "metadata": {},
   "outputs": [
    {
     "data": {
      "text/plain": [
       "[99.967717053394, 0.032282946606001325]"
      ]
     },
     "execution_count": 49,
     "metadata": {},
     "output_type": "execute_result"
    }
   ],
   "source": [
    "percentInGestante"
   ]
  },
  {
   "cell_type": "code",
   "execution_count": 52,
   "id": "873d0018",
   "metadata": {},
   "outputs": [],
   "source": [
    "coluna_tp_sexo = microdadosEnemSelecionados['TP_SEXO']"
   ]
  },
  {
   "cell_type": "code",
   "execution_count": 54,
   "id": "0b664fd9",
   "metadata": {},
   "outputs": [],
   "source": [
    "distTpSexo = coluna_tp_sexo.value_counts()"
   ]
  },
  {
   "cell_type": "code",
   "execution_count": 55,
   "id": "8b496641",
   "metadata": {},
   "outputs": [
    {
     "data": {
      "text/plain": [
       "F    3257703\n",
       "M    2256044\n",
       "Name: TP_SEXO, dtype: int64"
      ]
     },
     "execution_count": 55,
     "metadata": {},
     "output_type": "execute_result"
    }
   ],
   "source": [
    "distTpSexo"
   ]
  },
  {
   "cell_type": "code",
   "execution_count": 57,
   "id": "f0b71727",
   "metadata": {},
   "outputs": [],
   "source": [
    "percentTpSexo = [100*x/distTpSexo.sum() for x in distTpSexo]"
   ]
  },
  {
   "cell_type": "code",
   "execution_count": 58,
   "id": "1de6be83",
   "metadata": {},
   "outputs": [
    {
     "data": {
      "text/plain": [
       "[59.08328764450019, 40.91671235549981]"
      ]
     },
     "execution_count": 58,
     "metadata": {},
     "output_type": "execute_result"
    }
   ],
   "source": [
    "percentTpSexo"
   ]
  },
  {
   "cell_type": "code",
   "execution_count": 59,
   "id": "62659270",
   "metadata": {},
   "outputs": [],
   "source": [
    "sexoFeminino = distTpSexo[0]"
   ]
  },
  {
   "cell_type": "code",
   "execution_count": 60,
   "id": "55c26f9b",
   "metadata": {},
   "outputs": [],
   "source": [
    "nu_gestantes = distInGestante[1]"
   ]
  },
  {
   "cell_type": "code",
   "execution_count": 61,
   "id": "cf14f3b3",
   "metadata": {},
   "outputs": [
    {
     "data": {
      "text/plain": [
       "3257703"
      ]
     },
     "execution_count": 61,
     "metadata": {},
     "output_type": "execute_result"
    }
   ],
   "source": [
    "sexoFeminino"
   ]
  },
  {
   "cell_type": "code",
   "execution_count": 62,
   "id": "efe49b74",
   "metadata": {},
   "outputs": [
    {
     "data": {
      "text/plain": [
       "1780"
      ]
     },
     "execution_count": 62,
     "metadata": {},
     "output_type": "execute_result"
    }
   ],
   "source": [
    "nu_gestantes"
   ]
  },
  {
   "cell_type": "code",
   "execution_count": 66,
   "id": "24605c03",
   "metadata": {},
   "outputs": [],
   "source": [
    "porcentagem_mulheres_gestantes = nu_gestantes/sexoFeminino"
   ]
  },
  {
   "cell_type": "code",
   "execution_count": 67,
   "id": "fced7a28",
   "metadata": {},
   "outputs": [
    {
     "data": {
      "text/plain": [
       "0.0005463972621199661"
      ]
     },
     "execution_count": 67,
     "metadata": {},
     "output_type": "execute_result"
    }
   ],
   "source": [
    "porcentagem_mulheres_gestantes"
   ]
  },
  {
   "cell_type": "code",
   "execution_count": null,
   "id": "9202b774",
   "metadata": {},
   "outputs": [],
   "source": []
  }
 ],
 "metadata": {
  "kernelspec": {
   "display_name": "Python 3 (ipykernel)",
   "language": "python",
   "name": "python3"
  },
  "language_info": {
   "codemirror_mode": {
    "name": "ipython",
    "version": 3
   },
   "file_extension": ".py",
   "mimetype": "text/x-python",
   "name": "python",
   "nbconvert_exporter": "python",
   "pygments_lexer": "ipython3",
   "version": "3.10.1"
  }
 },
 "nbformat": 4,
 "nbformat_minor": 5
}
